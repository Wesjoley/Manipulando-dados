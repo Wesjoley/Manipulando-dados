{
 "cells": [
  {
   "cell_type": "code",
   "execution_count": 1,
   "id": "686b7d7e-ccfd-4a9c-9b18-ed44a777ec62",
   "metadata": {},
   "outputs": [],
   "source": [
    "x = 1/2+3//3+4**2\n"
   ]
  },
  {
   "cell_type": "code",
   "execution_count": 2,
   "id": "0c30731e-f3e7-4a3b-b21d-4e30e05400bf",
   "metadata": {},
   "outputs": [
    {
     "name": "stdout",
     "output_type": "stream",
     "text": [
      "17.5\n"
     ]
    }
   ],
   "source": [
    "print(x)"
   ]
  },
  {
   "cell_type": "code",
   "execution_count": 2,
   "id": "6de6826f-16a7-4e2b-b0a9-64f8faf83d72",
   "metadata": {},
   "outputs": [
    {
     "name": "stdin",
     "output_type": "stream",
     "text": [
      " 2\n",
      " 4\n"
     ]
    },
    {
     "name": "stdout",
     "output_type": "stream",
     "text": [
      "8.0\n"
     ]
    }
   ],
   "source": [
    "x = int(input())\n",
    "y = int (input())\n",
    "\n",
    "x=x/y\n",
    "y=y/x\n",
    "print(y)\n"
   ]
  },
  {
   "cell_type": "code",
   "execution_count": 3,
   "id": "f66ff341-f6a0-4ce9-8ec6-5dd1e1e7aecf",
   "metadata": {},
   "outputs": [
    {
     "name": "stdout",
     "output_type": "stream",
     "text": [
      "17.0\n"
     ]
    }
   ],
   "source": [
    "y = 2+3*5.\n",
    "print(y)"
   ]
  },
  {
   "cell_type": "code",
   "execution_count": 1,
   "id": "644ed8ac-3b53-4095-9d7d-ac314b272cfc",
   "metadata": {},
   "outputs": [
    {
     "name": "stdout",
     "output_type": "stream",
     "text": [
      "6\n"
     ]
    }
   ],
   "source": [
    "a = 3\n",
    "b= a*2\n",
    "a,b=b,a\n",
    "\n",
    "print(a)"
   ]
  },
  {
   "cell_type": "code",
   "execution_count": 2,
   "id": "235d8878-ba62-41e1-a191-32626d013cdf",
   "metadata": {},
   "outputs": [
    {
     "name": "stdout",
     "output_type": "stream",
     "text": [
      "[30, 10, -10]\n"
     ]
    }
   ],
   "source": [
    "l = [-20,-10,0,10,20,30]\n",
    "\n",
    "print(l[-1::-2])"
   ]
  },
  {
   "cell_type": "code",
   "execution_count": 4,
   "id": "3e20e23b-5cb3-4602-8f5f-4606fab138d0",
   "metadata": {},
   "outputs": [
    {
     "name": "stdout",
     "output_type": "stream",
     "text": [
      "t\n"
     ]
    }
   ],
   "source": [
    "lista =[\"cachorro\",\"hamster\",[\"pato\",\"galinha\",\"porco\"],\"gato\"]\n",
    "\n",
    "print(lista[3][2])"
   ]
  },
  {
   "cell_type": "code",
   "execution_count": null,
   "id": "33837204-dedf-476f-946c-a5f4e38da3a8",
   "metadata": {},
   "outputs": [],
   "source": []
  }
 ],
 "metadata": {
  "kernelspec": {
   "display_name": "Python 3 (ipykernel)",
   "language": "python",
   "name": "python3"
  },
  "language_info": {
   "codemirror_mode": {
    "name": "ipython",
    "version": 3
   },
   "file_extension": ".py",
   "mimetype": "text/x-python",
   "name": "python",
   "nbconvert_exporter": "python",
   "pygments_lexer": "ipython3",
   "version": "3.11.7"
  }
 },
 "nbformat": 4,
 "nbformat_minor": 5
}
